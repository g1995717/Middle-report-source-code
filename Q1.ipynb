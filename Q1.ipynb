{
 "cells": [
  {
   "cell_type": "code",
   "execution_count": 89,
   "metadata": {},
   "outputs": [],
   "source": [
    "import numpy as np\n",
    "import matplotlib.pyplot as plt\n",
    "import math"
   ]
  },
  {
   "cell_type": "code",
   "execution_count": 141,
   "metadata": {},
   "outputs": [
    {
     "data": {
      "text/plain": [
       "[<matplotlib.lines.Line2D at 0x16b7f240668>]"
      ]
     },
     "execution_count": 141,
     "metadata": {},
     "output_type": "execute_result"
    },
    {
     "data": {
      "image/png": "[encoded data removed]",
      "text/plain": [
       "<Figure size 432x288 with 1 Axes>"
      ]
     },
     "metadata": {
      "needs_background": "light"
     },
     "output_type": "display_data"
    }
   ],
   "source": [
    "n = 100\n",
    "omega = np.random.randn()\n",
    "noise = 0.8 * np.random.randn(n)\n",
    "\n",
    "x_d2 = np.random.randn(n, 2) + 0\n",
    "y_d2 = 2 * (omega * x_d2[:,0] + x_d2[:,1] + noise > 0) - 1\n",
    "\n",
    "plt.plot(np.extract(y_d2>0,x_d2[:,0]),np.extract(y_d2>0,x_d2[:,1]), 'x')\n",
    "plt.plot(np.extract(y_d2<0,x_d2[:,0]),np.extract(y_d2<0,x_d2[:,1]), 'o')"
   ]
  },
  {
   "cell_type": "code",
   "execution_count": 276,
   "metadata": {},
   "outputs": [],
   "source": [
    "def steep():\n",
    "    x=x_d2\n",
    "    y=y_d2\n",
    "    x[0,0]=1\n",
    "    x[0,1]=1\n",
    "    y[0]=1\n",
    "    #step=0.08\n",
    "    rate=1\n",
    "    w=np.zeros((601,2))\n",
    "    jfunction=[0]*50\n",
    "    dj=[0]*4000\n",
    "    for time in range(50):\n",
    "        for i in range(100):\n",
    "            jfunction[time]+=math.log(1+math.exp(-y[i]*np.dot(w[time],x[i])))\n",
    "            dj[time]+=(math.exp(-y[i]*np.dot(w[time],x[i]))*(-y[i]*x[i]))/(1+math.exp(-y[i]*np.dot(w[time],x[i])))\n",
    "            #dj[time]=(jfunction[time]-jfunction[time-1])*0.01\n",
    "        jfunction[time]+=rate*np.dot(w[time],w[time])\n",
    "        dj[time]+=2*rate*w[time]\n",
    "        #print(dj[time])\n",
    "        w[time+1]=w[time]-dj[time]*(1/(time+1))\n",
    "    #print(-dj[0]*step)\n",
    "    #f=zeros(n)\n",
    "    #for i in range(n):\n",
    "    #    if (np.dot(x[i],w[time])>0):\n",
    "    #        f[i]=1\n",
    "    #    else:\n",
    "    #        f[i]=-1\n",
    "    #print(f)\n",
    "    #plt.plot(np.extract(f>0,x_d2[:,0]),np.extract(f>0,x_d2[:,1]),'w*')\n",
    "    #plt.plot(np.extract(f<0,x_d2[:,0]),np.extract(f<0,x_d2[:,1]),'wx')\n",
    "    #print(dj[0])\n",
    "    #print(dj[1]*step)\n",
    "    return w,jfunction"
   ]
  },
  {
   "cell_type": "code",
   "execution_count": 277,
   "metadata": {},
   "outputs": [],
   "source": [
    "def newton():\n",
    "    x=x_d2\n",
    "    y=y_d2\n",
    "    x[0,0]=1\n",
    "    x[0,1]=1\n",
    "    y[0]=1\n",
    "    #step=0.08\n",
    "    rate=1\n",
    "    w=np.zeros((601,2))\n",
    "    jfunction=[0]*50\n",
    "    dj=[0]*2000\n",
    "    p=[0]*1000\n",
    "    ddj=[0]*2000\n",
    "    II=np.eye(2)\n",
    "    for time in range(50):\n",
    "        for i in range(100):\n",
    "            jfunction[time]+=math.log(1+math.exp(-y[i]*np.dot(w[time],x[i])))\n",
    "            dj[time]+=(math.exp(-y[i]*np.dot(w[time],x[i]))*(-y[i]*x[i]))/(1+math.exp(-y[i]*np.dot(w[time],x[i])))\n",
    "            #dj[time]=(jfunction[time]-jfunction[time-1])*0.01\n",
    "            p[time]=1/(1+math.exp(-y[i]*np.dot(w[time],x[i])))\n",
    "            ddj[time]+=p[time]*(1-p[time])*np.dot(np.transpose(x[i]),np.transpose(x[i]))\n",
    "        jfunction[time]+=rate*np.dot(w[time],w[time])\n",
    "        #print(ddj[time])\n",
    "        dj[time]+=2*rate*w[time]\n",
    "        #ddj[time]=dj[time]-dj[time-1]\n",
    "        ddj[time]+=2*rate*II\n",
    "        w[time+1]=w[time]-(1/(time+1))*np.dot(np.linalg.inv(ddj[time]),np.transpose(dj[time]))\n",
    "    #print(step*np.dot(np.linalg.inv(ddj[1]),np.transpose(dj[1])))\n",
    "    return w,jfunction"
   ]
  },
  {
   "cell_type": "code",
   "execution_count": 281,
   "metadata": {},
   "outputs": [
    {
     "name": "stderr",
     "output_type": "stream",
     "text": [
      "C:\\Users\\Guo\\Anaconda3\\lib\\site-packages\\ipykernel_launcher.py:7: RuntimeWarning: divide by zero encountered in log\n",
      "  import sys\n",
      "C:\\Users\\Guo\\Anaconda3\\lib\\site-packages\\ipykernel_launcher.py:8: RuntimeWarning: divide by zero encountered in log\n",
      "  \n"
     ]
    },
    {
     "data": {
      "text/plain": [
       "<matplotlib.legend.Legend at 0x16b03d5f828>"
      ]
     },
     "execution_count": 281,
     "metadata": {},
     "output_type": "execute_result"
    },
    {
     "data": {
      "image/png": "[encoded data removed]",
      "text/plain": [
       "<Figure size 432x288 with 1 Axes>"
      ]
     },
     "metadata": {
      "needs_background": "light"
     },
     "output_type": "display_data"
    }
   ],
   "source": [
    "SW,SJ=steep()\n",
    "#print(SJ-SJ[49])\n",
    "NW,NJ=newton()\n",
    "#k=SJ-NJ[40]\n",
    "#kk=NJ-NJ[40]\n",
    "#print(np.log(k))\n",
    "plt.plot(np.log(NJ-NJ[49]),'b',label='newton')\n",
    "plt.plot(np.log(SJ-SJ[49]),'r',label='steepest')\n",
    "#print(SJ-SJ[45])\n",
    "plt.xlabel('t')\n",
    "plt.ylabel('log(J(t)-J*)')\n",
    "plt.legend() "
   ]
  },
  {
   "cell_type": "code",
   "execution_count": null,
   "metadata": {},
   "outputs": [],
   "source": []
  },
  {
   "cell_type": "code",
   "execution_count": null,
   "metadata": {},
   "outputs": [],
   "source": []
  }
 ],
 "metadata": {
  "kernelspec": {
   "display_name": "Python 3",
   "language": "python",
   "name": "python3"
  },
  "language_info": {
   "codemirror_mode": {
    "name": "ipython",
    "version": 3
   },
   "file_extension": ".py",
   "mimetype": "text/x-python",
   "name": "python",
   "nbconvert_exporter": "python",
   "pygments_lexer": "ipython3",
   "version": "3.7.2"
  }
 },
 "nbformat": 4,
 "nbformat_minor": 2
}
