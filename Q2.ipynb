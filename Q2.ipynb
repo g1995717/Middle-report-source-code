{
 "cells": [
  {
   "cell_type": "code",
   "execution_count": 2,
   "metadata": {},
   "outputs": [
    {
     "data": {
      "text/plain": [
       "[<matplotlib.lines.Line2D at 0x17d062464e0>]"
      ]
     },
     "execution_count": 2,
     "metadata": {},
     "output_type": "execute_result"
    }
   ],
   "source": [
    "# requirement\n",
    "import numpy as np\n",
    "import matplotlib.pyplot as plt\n",
    "#import cvxpy as cv\n",
    "\n",
    "# prepare dataset\n",
    "np.random.seed(3846)\n",
    "n = 40\n",
    "omega = np.random.randn()\n",
    "noise = 0.8 * np.random.randn(n)\n",
    "\n",
    "x = np.random.randn(n, 2) + 0\n",
    "y = 2 * (omega * x[:,0] + x[:,1] + noise > 0) - 1\n",
    "\n",
    "plt.plot(np.extract(y>0,x[:,0]),np.extract(y>0,x[:,1]), 'x')\n",
    "plt.plot(np.extract(y<0,x[:,0]),np.extract(y<0,x[:,1]), 'o')"
   ]
  },
  {
   "cell_type": "code",
   "execution_count": 52,
   "metadata": {},
   "outputs": [],
   "source": [
    "A = np.array([[  3, 0.5],\n",
    "              [0.5,   1]])\n",
    "mu = np.array([[1],\n",
    "               [2]])\n",
    "w = np.array([[3],\n",
    "               [-1]])\n",
    "ww = np.zeros((20,2))"
   ]
  },
  {
   "cell_type": "code",
   "execution_count": 53,
   "metadata": {},
   "outputs": [
    {
     "data": {
      "text/plain": [
       "[<matplotlib.lines.Line2D at 0x17d0840eba8>,\n",
       " <matplotlib.lines.Line2D at 0x17d0840ecf8>]"
      ]
     },
     "execution_count": 53,
     "metadata": {},
     "output_type": "execute_result"
    },
    {
     "data": {
      "image/png": "[encoded data removed]",
      "text/plain": [
       "<Figure size 432x288 with 1 Axes>"
      ]
     },
     "metadata": {
      "needs_background": "light"
     },
     "output_type": "display_data"
    }
   ],
   "source": [
    "lams = np.arange(0, 6, 0.1)\n",
    "eig=1/6.2361\n",
    "#lamda=6;\n",
    "#lamda*=eig\n",
    "record=[0]*100\n",
    "def prox(GDU):\n",
    "    a=np.array([[0.0],\n",
    "               [0.0]])\n",
    "    if GDU[0]<=-lamda:\n",
    "        a[0]=GDU[0]+lamda\n",
    "    elif GDU[0]<=lamda and GDU[0]>=-lamda:\n",
    "        a[0]=0\n",
    "    elif GDU[0]>=lamda:\n",
    "        a[0]=GDU[0]-lamda\n",
    "    if GDU[1]<=-lamda:\n",
    "        a[1]=GDU[1]+lamda\n",
    "    elif GDU[1]<=lamda and GDU[1]>=-lamda:\n",
    "        a[1]=0\n",
    "    elif GDU[1]>=lamda:\n",
    "        a[1]=GDU[1]-lamda\n",
    "    return a\n",
    "for k in range(20):\n",
    "    lamda=k*eig\n",
    "    w = np.array([[0],\n",
    "               [0]])\n",
    "    for i in range(100):\n",
    "        w=prox(w-eig*2*np.dot(A,(w-mu)))\n",
    "    ww[k][0]=w[0]\n",
    "    ww[k][1]=w[1]\n",
    "plt.plot(ww)\n",
    "    #print(ww[3][1])\n",
    "    #plt.plot(w,k)\n",
    "#for i in range(100):\n",
    "#    ww=prox(ww-eig*2*np.dot(A,(ww-mu)))\n",
    "#    record[i]=np.linalg.norm(w-ww)\n",
    "#plt.plot(np.log(record),label='lamda=6')\n",
    "#plt.legend()\n",
    "#print(w)"
   ]
  },
  {
   "cell_type": "code",
   "execution_count": null,
   "metadata": {},
   "outputs": [],
   "source": []
  },
  {
   "cell_type": "code",
   "execution_count": null,
   "metadata": {},
   "outputs": [],
   "source": []
  }
 ],
 "metadata": {
  "kernelspec": {
   "display_name": "Python 3",
   "language": "python",
   "name": "python3"
  },
  "language_info": {
   "codemirror_mode": {
    "name": "ipython",
    "version": 3
   },
   "file_extension": ".py",
   "mimetype": "text/x-python",
   "name": "python",
   "nbconvert_exporter": "python",
   "pygments_lexer": "ipython3",
   "version": "3.7.2"
  }
 },
 "nbformat": 4,
 "nbformat_minor": 2
}
